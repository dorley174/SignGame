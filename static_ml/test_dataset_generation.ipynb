{
 "cells": [
  {
   "cell_type": "code",
   "execution_count": 8,
   "metadata": {},
   "outputs": [],
   "source": [
    "from PIL import Image, ImageEnhance, ImageFilter, ImageTransform\n",
    "import random\n",
    "from collections import Counter\n",
    "import numpy as np"
   ]
  },
  {
   "cell_type": "code",
   "execution_count": 11,
   "metadata": {},
   "outputs": [],
   "source": [
    "\n",
    "def slightly_change_image(image_path, output_path):\n",
    "    img = Image.open(image_path)\n",
    "    \n",
    "    modifications = random.sample([\n",
    "        'brightness', 'contrast', 'color', 'sharpness', 'blur', 'rotate'\n",
    "    ], random.randint(1, 3))\n",
    "    \n",
    "    for mod in modifications:\n",
    "        if mod == 'brightness':\n",
    "            enhancer = ImageEnhance.Brightness(img)\n",
    "            img = enhancer.enhance(random.uniform(0.9, 1.5))\n",
    "        elif mod == 'contrast':\n",
    "            enhancer = ImageEnhance.Contrast(img)\n",
    "            img = enhancer.enhance(random.uniform(0.8, 1.1))\n",
    "        elif mod == 'color':\n",
    "            enhancer = ImageEnhance.Color(img)\n",
    "            img = enhancer.enhance(random.uniform(0.8, 1.2))\n",
    "        elif mod == 'sharpness':\n",
    "            enhancer = ImageEnhance.Sharpness(img)\n",
    "            img = enhancer.enhance(random.uniform(0.8, 1.3))\n",
    "        elif mod == 'blur':\n",
    "            img = img.filter(ImageFilter.GaussianBlur(radius=random.uniform(0.1, 0.7)))\n",
    "        elif mod == 'rotate':\n",
    "            img = img.rotate(random.uniform(-10, 10), expand=True)\n",
    "    \n",
    "    img.save(output_path)"
   ]
  },
  {
   "cell_type": "code",
   "execution_count": 1,
   "metadata": {},
   "outputs": [],
   "source": [
    "from os import listdir\n",
    "from os.path import isfile, join\n",
    "figures = [f for f in listdir('etalon') if isfile(join('etalon', f))]"
   ]
  },
  {
   "cell_type": "code",
   "execution_count": 12,
   "metadata": {},
   "outputs": [],
   "source": [
    "from collections import Counter\n",
    "cnt = Counter(figures)\n",
    "for i in range(len(cnt) * 50):\n",
    "    figure = figures[random.randint(0,len(cnt))]\n",
    "    cnt[figure] += 1\n",
    "    slightly_change_image('etalon/' + figure, 'images/'  + figure[:figure.find('.')] +'-' +str(cnt[figure]) + '.png')"
   ]
  }
 ],
 "metadata": {
  "kernelspec": {
   "display_name": "Python 3",
   "language": "python",
   "name": "python3"
  },
  "language_info": {
   "codemirror_mode": {
    "name": "ipython",
    "version": 3
   },
   "file_extension": ".py",
   "mimetype": "text/x-python",
   "name": "python",
   "nbconvert_exporter": "python",
   "pygments_lexer": "ipython3",
   "version": "3.10.0"
  },
  "orig_nbformat": 4
 },
 "nbformat": 4,
 "nbformat_minor": 2
}
